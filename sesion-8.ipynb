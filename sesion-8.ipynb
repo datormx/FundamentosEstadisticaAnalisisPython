{
 "metadata": {
  "language_info": {
   "codemirror_mode": {
    "name": "ipython",
    "version": 3
   },
   "file_extension": ".py",
   "mimetype": "text/x-python",
   "name": "python",
   "nbconvert_exporter": "python",
   "pygments_lexer": "ipython3",
   "version": "3.8.5-final"
  },
  "orig_nbformat": 2,
  "kernelspec": {
   "name": "estadistica_analisis",
   "display_name": "estadistica_analisis"
  }
 },
 "nbformat": 4,
 "nbformat_minor": 2,
 "cells": [
  {
   "cell_type": "code",
   "execution_count": 1,
   "metadata": {},
   "outputs": [],
   "source": [
    "import scipy.stats\n",
    "import numpy as np \n",
    "import pandas as pd \n",
    "import matplotlib.pyplot as plt \n",
    "import seaborn as sns \n",
    "%matplotlib inline"
   ]
  },
  {
   "cell_type": "code",
   "execution_count": 8,
   "metadata": {},
   "outputs": [
    {
     "output_type": "execute_result",
     "data": {
      "text/plain": "Index(['bola', 'color', 'numero'], dtype='object')"
     },
     "metadata": {},
     "execution_count": 8
    }
   ],
   "source": [
    "#Juego de azar. Probabilidad de sacar cierta bola de una caja con 10 bolas negras y blancas con números del 1 al 3.\n",
    "\n",
    "df = pd.read_csv('juego-azar.csv', sep = ';')\n",
    "df.columns"
   ]
  },
  {
   "cell_type": "code",
   "execution_count": 9,
   "metadata": {},
   "outputs": [
    {
     "output_type": "execute_result",
     "data": {
      "text/plain": "   bola   color  numero\n0     1  blanco       1\n1     2   negro       1\n2     3   negro       1\n3     4   negro       1\n4     5  blanco       2\n5     6   negro       2\n6     7   negro       2\n7     8  blanco       3\n8     9  blanco       3\n9    10   negro       3",
      "text/html": "<div>\n<style scoped>\n    .dataframe tbody tr th:only-of-type {\n        vertical-align: middle;\n    }\n\n    .dataframe tbody tr th {\n        vertical-align: top;\n    }\n\n    .dataframe thead th {\n        text-align: right;\n    }\n</style>\n<table border=\"1\" class=\"dataframe\">\n  <thead>\n    <tr style=\"text-align: right;\">\n      <th></th>\n      <th>bola</th>\n      <th>color</th>\n      <th>numero</th>\n    </tr>\n  </thead>\n  <tbody>\n    <tr>\n      <th>0</th>\n      <td>1</td>\n      <td>blanco</td>\n      <td>1</td>\n    </tr>\n    <tr>\n      <th>1</th>\n      <td>2</td>\n      <td>negro</td>\n      <td>1</td>\n    </tr>\n    <tr>\n      <th>2</th>\n      <td>3</td>\n      <td>negro</td>\n      <td>1</td>\n    </tr>\n    <tr>\n      <th>3</th>\n      <td>4</td>\n      <td>negro</td>\n      <td>1</td>\n    </tr>\n    <tr>\n      <th>4</th>\n      <td>5</td>\n      <td>blanco</td>\n      <td>2</td>\n    </tr>\n    <tr>\n      <th>5</th>\n      <td>6</td>\n      <td>negro</td>\n      <td>2</td>\n    </tr>\n    <tr>\n      <th>6</th>\n      <td>7</td>\n      <td>negro</td>\n      <td>2</td>\n    </tr>\n    <tr>\n      <th>7</th>\n      <td>8</td>\n      <td>blanco</td>\n      <td>3</td>\n    </tr>\n    <tr>\n      <th>8</th>\n      <td>9</td>\n      <td>blanco</td>\n      <td>3</td>\n    </tr>\n    <tr>\n      <th>9</th>\n      <td>10</td>\n      <td>negro</td>\n      <td>3</td>\n    </tr>\n  </tbody>\n</table>\n</div>"
     },
     "metadata": {},
     "execution_count": 9
    }
   ],
   "source": [
    "df"
   ]
  },
  {
   "source": [
    "# Probabilidades univariadas"
   ],
   "cell_type": "markdown",
   "metadata": {}
  },
  {
   "cell_type": "code",
   "execution_count": 6,
   "metadata": {},
   "outputs": [
    {
     "output_type": "execute_result",
     "data": {
      "text/plain": "1    0.4\n3    0.3\n2    0.3\nName: numero, dtype: float64"
     },
     "metadata": {},
     "execution_count": 6
    }
   ],
   "source": [
    "#Probabilidad que salga una bola de un número del 1 al 3 de un total de 10 bolas.\n",
    "\n",
    "df.numero.value_counts()/len(df)"
   ]
  },
  {
   "cell_type": "code",
   "execution_count": 10,
   "metadata": {},
   "outputs": [
    {
     "output_type": "execute_result",
     "data": {
      "text/plain": "negro     0.6\nblanco    0.4\nName: color, dtype: float64"
     },
     "metadata": {},
     "execution_count": 10
    }
   ],
   "source": [
    "#Probabilidad que salga una bola blanca o negra de un total de 10 bolas.\n",
    "\n",
    "df.color.value_counts()/len(df)"
   ]
  },
  {
   "source": [
    "# Probabilidad conjunta bivariada "
   ],
   "cell_type": "markdown",
   "metadata": {}
  },
  {
   "cell_type": "code",
   "execution_count": 20,
   "metadata": {},
   "outputs": [
    {
     "output_type": "execute_result",
     "data": {
      "text/plain": "color   numero\nblanco  1         1\n        2         1\n        3         2\nnegro   1         3\n        2         2\n        3         1\ndtype: int64"
     },
     "metadata": {},
     "execution_count": 20
    }
   ],
   "source": [
    "#Probabilidad de tener una esfera de un color y un número específico. Ley aditiva\n",
    "\n",
    "df.groupby(['color', 'numero']).size()\n",
    "#Se obtienen las frecuencias de bolas por color y número."
   ]
  },
  {
   "cell_type": "code",
   "execution_count": 21,
   "metadata": {},
   "outputs": [
    {
     "output_type": "execute_result",
     "data": {
      "text/plain": "color   numero\nblanco  1         0.1\n        2         0.1\n        3         0.2\nnegro   1         0.3\n        2         0.2\n        3         0.1\ndtype: float64"
     },
     "metadata": {},
     "execution_count": 21
    }
   ],
   "source": [
    "df.groupby(['color', 'numero']).size()/len(df)\n",
    "#Obteniendo finalmente la probabilidad diviendo los elementos de cada uno entre el total de esferas en el df."
   ]
  },
  {
   "source": [
    "# Probabilidad condicional"
   ],
   "cell_type": "markdown",
   "metadata": {}
  },
  {
   "cell_type": "code",
   "execution_count": 15,
   "metadata": {},
   "outputs": [
    {
     "output_type": "execute_result",
     "data": {
      "text/plain": "0.3333333333333333"
     },
     "metadata": {},
     "execution_count": 15
    }
   ],
   "source": [
    "#P(A|B) = P(Blanco|2) = (numero de esferas blancas con número 2) / (número de esferas blancas) = 1/3\n",
    "1/3"
   ]
  },
  {
   "source": [
    "## Teorema de Bayes"
   ],
   "cell_type": "markdown",
   "metadata": {}
  },
  {
   "cell_type": "code",
   "execution_count": 24,
   "metadata": {},
   "outputs": [
    {
     "output_type": "execute_result",
     "data": {
      "text/plain": "numero  color \n1       blanco    1\n        negro     3\n2       blanco    1\n        negro     2\n3       blanco    2\n        negro     1\ndtype: int64"
     },
     "metadata": {},
     "execution_count": 24
    }
   ],
   "source": [
    "df.groupby(['numero', 'color']).size()"
   ]
  },
  {
   "cell_type": "code",
   "execution_count": 27,
   "metadata": {},
   "outputs": [
    {
     "output_type": "execute_result",
     "data": {
      "text/plain": "0.4"
     },
     "metadata": {},
     "execution_count": 27
    }
   ],
   "source": [
    "# P(A)\n",
    "\n",
    "# P(A|B)\n",
    "\n",
    "# P(B)\n",
    "\n",
    "# P(Blanca) = 4/10 \n",
    "# ##Esta es la probabilidad a calcular con Teorema de Bayes\n",
    "\n",
    "#El \n",
    "# P(Blanca) = P(Blanca|1)*P(1) + P(Blanca|2)*P(2) + P(Blanca|3)*P(3) =\n",
    "(1/4)*(4/10) + (1/3)*(3/10) + (2/3)*(3/10)"
   ]
  }
 ]
}