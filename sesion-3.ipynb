{
 "metadata": {
  "language_info": {
   "codemirror_mode": {
    "name": "ipython",
    "version": 3
   },
   "file_extension": ".py",
   "mimetype": "text/x-python",
   "name": "python",
   "nbconvert_exporter": "python",
   "pygments_lexer": "ipython3",
   "version": "3.8.5-final"
  },
  "orig_nbformat": 2,
  "kernelspec": {
   "name": "estadistica_analisis",
   "display_name": "estadistica_analisis"
  }
 },
 "nbformat": 4,
 "nbformat_minor": 2,
 "cells": [
  {
   "source": [
    "# Conceptos clave sobre estadística: Experimentos y distribuciones"
   ],
   "cell_type": "markdown",
   "metadata": {}
  },
  {
   "cell_type": "code",
   "execution_count": 1,
   "metadata": {},
   "outputs": [],
   "source": [
    "import numpy as np\n",
    "import datetime\n",
    "from datetime import date"
   ]
  },
  {
   "cell_type": "code",
   "execution_count": 9,
   "metadata": {},
   "outputs": [
    {
     "output_type": "execute_result",
     "data": {
      "text/plain": "float"
     },
     "metadata": {},
     "execution_count": 9
    }
   ],
   "source": [
    "type('1')\n",
    "type(0)\n",
    "type(1.1)"
   ]
  },
  {
   "cell_type": "code",
   "execution_count": 12,
   "metadata": {},
   "outputs": [
    {
     "output_type": "execute_result",
     "data": {
      "text/plain": "6"
     },
     "metadata": {},
     "execution_count": 12
    }
   ],
   "source": [
    "1 + 1\n",
    "1 - 1\n",
    "1/2\n",
    "3%2\n",
    "3**2\n",
    "3*2\n"
   ]
  },
  {
   "cell_type": "code",
   "execution_count": 18,
   "metadata": {},
   "outputs": [
    {
     "output_type": "execute_result",
     "data": {
      "text/plain": "True"
     },
     "metadata": {},
     "execution_count": 18
    }
   ],
   "source": [
    "(1 > 2) & (1 < 2)\n",
    "(1 > 2) | (1 < 2)\n"
   ]
  },
  {
   "cell_type": "code",
   "execution_count": 24,
   "metadata": {},
   "outputs": [
    {
     "output_type": "execute_result",
     "data": {
      "text/plain": "2"
     },
     "metadata": {},
     "execution_count": 24
    }
   ],
   "source": [
    "list1 = ['1', 0, [1,2]]\n",
    "\n",
    "list1[0]\n",
    "list1[1]\n",
    "list1[2][1]"
   ]
  },
  {
   "cell_type": "markdown",
   "metadata": {},
   "source": [
    "## Experimento de Bernoulli | Random Variable Sample"
   ]
  },
  {
   "cell_type": "code",
   "execution_count": 25,
   "metadata": {},
   "outputs": [],
   "source": [
    "universo = ['cara', 'cruz']"
   ]
  },
  {
   "cell_type": "code",
   "execution_count": 39,
   "metadata": {},
   "outputs": [
    {
     "output_type": "execute_result",
     "data": {
      "text/plain": "0.5"
     },
     "metadata": {},
     "execution_count": 39
    }
   ],
   "source": [
    "p_cara = 1/2\n",
    "\n",
    "p_cara"
   ]
  },
  {
   "cell_type": "code",
   "execution_count": 150,
   "metadata": {},
   "outputs": [
    {
     "output_type": "execute_result",
     "data": {
      "text/plain": "array([0, 1, 0, 0, 0, 1, 1, 1, 0, 1])"
     },
     "metadata": {},
     "execution_count": 150
    }
   ],
   "source": [
    "from scipy.stats import bernoulli\n",
    "\n",
    "bernoulli.rvs(p=p_cara, size=10)\n",
    "\n"
   ]
  },
  {
   "cell_type": "code",
   "execution_count": 149,
   "metadata": {},
   "outputs": [
    {
     "output_type": "execute_result",
     "data": {
      "text/plain": "7"
     },
     "metadata": {},
     "execution_count": 149
    }
   ],
   "source": [
    "sum(bernoulli.rvs(p=p_cara, size=10))"
   ]
  },
  {
   "cell_type": "code",
   "execution_count": 83,
   "metadata": {},
   "outputs": [
    {
     "output_type": "execute_result",
     "data": {
      "text/plain": "'cara'"
     },
     "metadata": {},
     "execution_count": 83
    }
   ],
   "source": [
    "universo[bernoulli.rvs(p=p_cara)]"
   ]
  },
  {
   "cell_type": "markdown",
   "metadata": {},
   "source": [
    "##  Experimento binomial | Distribución de probabilidad"
   ]
  },
  {
   "cell_type": "code",
   "execution_count": 85,
   "metadata": {},
   "outputs": [],
   "source": [
    "from scipy.stats import binom"
   ]
  },
  {
   "cell_type": "code",
   "execution_count": 154,
   "metadata": {},
   "outputs": [
    {
     "output_type": "execute_result",
     "data": {
      "text/plain": "array([5, 4, 5, 5, 5, 4, 6, 4, 2, 5, 7, 3, 2, 7, 6, 6, 6, 7, 6, 5, 7, 5,\n       3, 7, 4, 5, 3, 6, 5, 3, 5, 7, 5, 7, 5, 5, 5, 6, 6, 6, 7, 4, 2, 3,\n       8, 2, 4, 7, 6, 4, 6, 6, 4, 6, 6, 7, 6, 6, 5, 4, 6, 4, 7, 3, 3, 4,\n       7, 4, 7, 4, 4, 4, 3, 3, 4, 4, 6, 4, 4, 2, 2, 6, 6, 4, 7, 3, 8, 5,\n       3, 5, 3, 4, 3, 6, 4, 2, 3, 7, 2, 4])"
     },
     "metadata": {},
     "execution_count": 154
    }
   ],
   "source": [
    "# Generando la distribución binomial\n",
    "## Es la suma de los éxitos en un experimento en varias ocasiones.\n",
    "\n",
    "binom.rvs(p=p_cara, n = 10, size = 100)\n",
    "#Experimento: 10 lanzamientos de moneda, se repite 100 veces el experimento."
   ]
  },
  {
   "cell_type": "code",
   "execution_count": 140,
   "metadata": {},
   "outputs": [
    {
     "output_type": "execute_result",
     "data": {
      "text/plain": "5    28\n4    24\n6    21\n7    10\n3    10\n8     4\n2     2\n9     1\ndtype: int64"
     },
     "metadata": {},
     "execution_count": 140
    }
   ],
   "source": [
    "#Número de casos favorables \n",
    "\n",
    "import pandas as pd \n",
    "\n",
    "ds = pd.Series(binom.rvs(p=p_cara, n = 10, size = 100))\n",
    "ds.value_counts()"
   ]
  },
  {
   "cell_type": "code",
   "execution_count": 152,
   "metadata": {},
   "outputs": [
    {
     "output_type": "execute_result",
     "data": {
      "text/plain": "5    0.28\n4    0.24\n6    0.21\n7    0.10\n3    0.10\n8    0.04\n2    0.02\n9    0.01\ndtype: float64"
     },
     "metadata": {},
     "execution_count": 152
    }
   ],
   "source": [
    "# Probabilidad de que ocurra esa cantidad de exitos\n",
    "\n",
    "ds.value_counts()/100\n"
   ]
  }
 ]
}